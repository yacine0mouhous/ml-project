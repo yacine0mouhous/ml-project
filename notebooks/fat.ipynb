{
 "cells": [
  {
   "cell_type": "code",
   "execution_count": 1,
   "id": "7c315de4",
   "metadata": {},
   "outputs": [],
   "source": [
    "import joblib\n",
    "import numpy as np\n",
    "import pandas as pd\n",
    "\n",
    "from sklearn.ensemble import GradientBoostingRegressor\n",
    "from sklearn.feature_selection import SelectKBest, f_regression\n",
    "from sklearn.metrics import mean_squared_error, r2_score\n",
    "from sklearn.model_selection import GridSearchCV, cross_val_score, train_test_split\n",
    "from sklearn.preprocessing import StandardScaler\n"
   ]
  },
  {
   "cell_type": "code",
   "execution_count": 2,
   "id": "ecbef416",
   "metadata": {},
   "outputs": [],
   "source": [
    "# Load dataset\n",
    "df = pd.read_csv('../data/data.csv')\n",
    "\n",
    "# One-hot encode categorical variables\n",
    "df = pd.get_dummies(df, columns=['Gender', 'Workout_Type'], drop_first=True)\n"
   ]
  },
  {
   "cell_type": "code",
   "execution_count": 3,
   "id": "8b068aa5",
   "metadata": {},
   "outputs": [
    {
     "name": "stdout",
     "output_type": "stream",
     "text": [
      "Top features: ['Session_Duration (hours)', 'Calories_Burned', 'Water_Intake (liters)', 'Workout_Frequency (days/week)', 'Experience_Level', 'Gender_Male']\n"
     ]
    }
   ],
   "source": [
    "# Define features and target\n",
    "X = df.drop(columns=['Fat_Percentage'])\n",
    "y = df['Fat_Percentage']\n",
    "\n",
    "# Apply ANOVA F-test to select top 6 features\n",
    "selector = SelectKBest(score_func=f_regression, k=6)\n",
    "X_selected = selector.fit_transform(X, y)\n",
    "\n",
    "# Get selected feature names\n",
    "selected_features = X.columns[selector.get_support()]\n",
    "print(\"Top features:\", list(selected_features))\n"
   ]
  },
  {
   "cell_type": "code",
   "execution_count": 4,
   "id": "7c48a370",
   "metadata": {},
   "outputs": [],
   "source": [
    "# Split the data\n",
    "X_train, X_test, y_train, y_test = train_test_split(\n",
    "    X_selected, y, test_size=0.25, random_state=42\n",
    ")\n",
    "\n",
    "# Standardize features\n",
    "scaler = StandardScaler()\n",
    "X_train_scaled = scaler.fit_transform(X_train)\n",
    "X_test_scaled = scaler.transform(X_test)\n"
   ]
  },
  {
   "cell_type": "code",
   "execution_count": null,
   "id": "2cecfedd",
   "metadata": {},
   "outputs": [
    {
     "name": "stdout",
     "output_type": "stream",
     "text": [
      "Fitting 5 folds for each of 108 candidates, totalling 540 fits\n"
     ]
    }
   ],
   "source": [
    "# Initialize the model\n",
    "gbr = GradientBoostingRegressor(random_state=42)\n",
    "\n",
    "# Define hyperparameter grid\n",
    "param_grid = {\n",
    "    'n_estimators': [100, 300, 500],\n",
    "    'learning_rate': [0.01, 0.05, 0.1],\n",
    "    'max_depth': [3, 4, 5],\n",
    "    'subsample': [0.7, 1.0],\n",
    "    'min_samples_split': [2, 5]\n",
    "}\n",
    "\n",
    "# Perform grid search with 5-fold cross-validation\n",
    "grid_search = GridSearchCV(\n",
    "    gbr, param_grid, cv=5, scoring='r2', n_jobs=-1, verbose=1\n",
    ")\n",
    "grid_search.fit(X_train_scaled, y_train)\n",
    "\n",
    "# Best parameters\n",
    "print(f\"Best parameters: {grid_search.best_params_}\")\n"
   ]
  },
  {
   "cell_type": "code",
   "execution_count": null,
   "id": "4309c35b",
   "metadata": {},
   "outputs": [
    {
     "name": "stdout",
     "output_type": "stream",
     "text": [
      "\n",
      "Cross-Validation Training R2 (mean ± std): 0.7977 ± 0.0298\n",
      "Cross-Validation Training RMSE (mean ± std): 2.7776 ± 0.0756\n"
     ]
    }
   ],
   "source": [
    "# Retrieve best model from grid search\n",
    "best_model = grid_search.best_estimator_\n",
    "\n",
    "# Cross-validation R² and RMSE on training set\n",
    "cv_r2 = cross_val_score(best_model, X_train_scaled, y_train, cv=5, scoring='r2')\n",
    "cv_rmse = np.sqrt(-cross_val_score(\n",
    "    best_model, X_train_scaled, y_train, cv=5, scoring='neg_mean_squared_error'))\n",
    "\n",
    "print(f\"\\nCross-Validation Training R2 (mean ± std): {cv_r2.mean():.4f} ± {cv_r2.std():.4f}\")\n",
    "print(f\"Cross-Validation Training RMSE (mean ± std): {cv_rmse.mean():.4f} ± {cv_rmse.std():.4f}\")\n"
   ]
  },
  {
   "cell_type": "code",
   "execution_count": null,
   "id": "8feb9c57",
   "metadata": {},
   "outputs": [
    {
     "name": "stdout",
     "output_type": "stream",
     "text": [
      "\n",
      "Training R2 Score: 0.8207\n",
      "Training RMSE:     7.0178\n",
      "Testing R2 Score:  0.8059\n",
      "Testing RMSE:      7.5904\n"
     ]
    }
   ],
   "source": [
    "# Fit best model to full training data\n",
    "best_model.fit(X_train_scaled, y_train)\n",
    "\n",
    "# Predictions\n",
    "y_train_pred = best_model.predict(X_train_scaled)\n",
    "y_test_pred = best_model.predict(X_test_scaled)\n",
    "\n",
    "# Evaluation metrics\n",
    "train_r2 = r2_score(y_train, y_train_pred)\n",
    "train_rmse = mean_squared_error(y_train, y_train_pred)\n",
    "test_r2 = r2_score(y_test, y_test_pred)\n",
    "test_rmse = mean_squared_error(y_test, y_test_pred)\n",
    "\n",
    "print(f\"\\nTraining R2 Score: {train_r2:.4f}\")\n",
    "print(f\"Training RMSE:     {train_rmse:.4f}\")\n",
    "print(f\"Testing R2 Score:  {test_r2:.4f}\")\n",
    "print(f\"Testing RMSE:      {test_rmse:.4f}\")\n"
   ]
  },
  {
   "cell_type": "code",
   "execution_count": null,
   "id": "60f47531",
   "metadata": {},
   "outputs": [
    {
     "name": "stdout",
     "output_type": "stream",
     "text": [
      "Model, scaler, and selected features saved!\n"
     ]
    }
   ],
   "source": [
    "\n",
    "\n",
    "# Save the trained model, scaler, and selected features\n",
    "joblib.dump(best_model, '../models/fat/fat-model.pkl')\n",
    "joblib.dump(scaler, '../models/fat/fat-scaler.pkl')\n",
    "joblib.dump(selected_features, '../models/fat/fat-selected_features.pkl')\n",
    "\n",
    "print(\"Model, scaler, and selected features saved!\")\n"
   ]
  },
  {
   "cell_type": "code",
   "execution_count": null,
   "id": "77376eb3",
   "metadata": {},
   "outputs": [
    {
     "name": "stdout",
     "output_type": "stream",
     "text": [
      "Selected Features: ['Session_Duration (hours)', 'Calories_Burned', 'Water_Intake (liters)', 'Workout_Frequency (days/week)', 'Experience_Level', 'Gender_Male']\n",
      "Sample 1 - Predicted Fat Percentage: 25.36%\n",
      "Sample 2 - Predicted Fat Percentage: 30.14%\n",
      "Sample 3 - Predicted Fat Percentage: 20.55%\n",
      "Sample 4 - Predicted Fat Percentage: 29.48%\n",
      "Sample 5 - Predicted Fat Percentage: 14.32%\n"
     ]
    },
    {
     "name": "stderr",
     "output_type": "stream",
     "text": [
      "c:\\Users\\yine6\\OneDrive\\Bureau\\ml project\\venv\\Lib\\site-packages\\sklearn\\utils\\validation.py:2732: UserWarning: X has feature names, but StandardScaler was fitted without feature names\n",
      "  warnings.warn(\n"
     ]
    }
   ],
   "source": [
    "\n",
    "\n",
    "# Your selected features from the model\n",
    "selected_features = ['Session_Duration (hours)', 'Calories_Burned', 'Water_Intake (liters)', \n",
    "                     'Workout_Frequency (days/week)', 'Experience_Level', 'Gender_Male']\n",
    "\n",
    "# Print selected features\n",
    "print(\"Selected Features:\", selected_features)\n",
    "\n",
    "# Define 5 custom test samples as dicts\n",
    "custom_tests = [\n",
    "    {'Session_Duration (hours)': 1.2, 'Calories_Burned': 800, 'Water_Intake (liters)': 2.5,\n",
    "     'Workout_Frequency (days/week)': 4, 'Experience_Level': 2, 'Gender_Male': 1},\n",
    "\n",
    "    {'Session_Duration (hours)': 0.8, 'Calories_Burned': 500, 'Water_Intake (liters)': 1.8,\n",
    "     'Workout_Frequency (days/week)': 3, 'Experience_Level': 1, 'Gender_Male': 0},\n",
    "\n",
    "    {'Session_Duration (hours)': 1.5, 'Calories_Burned': 1100, 'Water_Intake (liters)': 3.0,\n",
    "     'Workout_Frequency (days/week)': 5, 'Experience_Level': 3, 'Gender_Male': 1},\n",
    "\n",
    "    {'Session_Duration (hours)': 0.5, 'Calories_Burned': 400, 'Water_Intake (liters)': 2.0,\n",
    "     'Workout_Frequency (days/week)': 2, 'Experience_Level': 1, 'Gender_Male': 0},\n",
    "\n",
    "    {'Session_Duration (hours)': 2.0, 'Calories_Burned': 1400, 'Water_Intake (liters)': 3.5,\n",
    "     'Workout_Frequency (days/week)': 6, 'Experience_Level': 3, 'Gender_Male': 1},\n",
    "]\n",
    "\n",
    "# Convert to DataFrame\n",
    "custom_df = pd.DataFrame(custom_tests)\n",
    "\n",
    "# Ensure columns order matches selected_features\n",
    "custom_df = custom_df[selected_features]\n",
    "\n",
    "# Scale features (using your previously fitted scaler)\n",
    "custom_scaled = scaler.transform(custom_df)\n",
    "\n",
    "# Predict using your trained model (best_model)\n",
    "predictions = best_model.predict(custom_scaled)\n",
    "\n",
    "# Print only predicted results\n",
    "for i, pred in enumerate(predictions, 1):\n",
    "    print(f\"Sample {i} - Predicted Fat Percentage: {pred:.2f}%\")\n",
    "\n"
   ]
  }
 ],
 "metadata": {
  "kernelspec": {
   "display_name": "venv",
   "language": "python",
   "name": "python3"
  },
  "language_info": {
   "codemirror_mode": {
    "name": "ipython",
    "version": 3
   },
   "file_extension": ".py",
   "mimetype": "text/x-python",
   "name": "python",
   "nbconvert_exporter": "python",
   "pygments_lexer": "ipython3",
   "version": "3.13.0"
  }
 },
 "nbformat": 4,
 "nbformat_minor": 5
}
