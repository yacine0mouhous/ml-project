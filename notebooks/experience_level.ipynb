{
 "cells": [
  {
   "cell_type": "code",
   "execution_count": 6,
   "id": "25d7330d",
   "metadata": {},
   "outputs": [
    {
     "name": "stdout",
     "output_type": "stream",
     "text": [
      "Selected Features: ['Session_Duration (hours)', 'Calories_Burned', 'Fat_Percentage', 'Water_Intake (liters)', 'Workout_Frequency (days/week)']\n",
      "\n",
      "Random Forest Results:\n",
      "Training Accuracy: 1.0000\n",
      "Testing Accuracy:  0.8934\n",
      "Cross-Val Accuracy (5 folds): 0.8849 ± 0.0254\n",
      "\n",
      "Gradient Boosting Results:\n",
      "Training Accuracy: 0.9918\n",
      "Testing Accuracy:  0.8648\n",
      "Cross-Val Accuracy (5 folds): 0.8818 ± 0.0284\n"
     ]
    }
   ],
   "source": [
    "import pandas as pd\n",
    "from sklearn.model_selection import train_test_split, cross_val_score\n",
    "from sklearn.preprocessing import LabelEncoder\n",
    "from sklearn.feature_selection import SelectKBest, f_classif\n",
    "from sklearn.ensemble import RandomForestClassifier, GradientBoostingClassifier\n",
    "from sklearn.metrics import accuracy_score\n",
    "\n",
    "# Load data\n",
    "df = pd.read_csv('../data/data.csv')\n",
    "\n",
    "# Encode target variable Experience_Level if needed\n",
    "if df['Experience_Level'].dtype == 'object':\n",
    "    le_target = LabelEncoder()\n",
    "    df['Experience_Level'] = le_target.fit_transform(df['Experience_Level'])\n",
    "\n",
    "# Map Experience_Level to 3 classes\n",
    "def map_to_three_classes(x):\n",
    "    if x <= 1:\n",
    "        return 0  # Beginner\n",
    "    elif x == 2:\n",
    "        return 1  # Intermediate\n",
    "    else:\n",
    "        return 2  # Advanced\n",
    "\n",
    "df['Experience_Level'] = df['Experience_Level'].apply(map_to_three_classes)\n",
    "\n",
    "# One-hot encode categorical features\n",
    "df = pd.get_dummies(df, columns=['Gender', 'Workout_Type'], drop_first=True)\n",
    "\n",
    "# Separate features and target\n",
    "X = df.drop(columns=['Experience_Level'])\n",
    "y = df['Experience_Level']\n",
    "\n",
    "# Select top 5 features using ANOVA F-test\n",
    "selector = SelectKBest(score_func=f_classif, k=5)\n",
    "X_selected = selector.fit_transform(X, y)\n",
    "\n",
    "selected_features = X.columns[selector.get_support()]\n",
    "print(\"Selected Features:\", list(selected_features))\n",
    "\n",
    "# Train-test split with stratify\n",
    "X_train, X_test, y_train, y_test = train_test_split(\n",
    "    X_selected, y, test_size=0.25, random_state=42, stratify=y\n",
    ")\n",
    "\n",
    "# Define models\n",
    "models = {\n",
    "    \"Random Forest\": RandomForestClassifier(random_state=42),\n",
    "    \"Gradient Boosting\": GradientBoostingClassifier(random_state=42),\n",
    "}\n",
    "\n",
    "for name, model in models.items():\n",
    "    # Train model\n",
    "    model.fit(X_train, y_train)\n",
    "\n",
    "    # Predictions\n",
    "    train_pred = model.predict(X_train)\n",
    "    test_pred = model.predict(X_test)\n",
    "\n",
    "    # Accuracy scores\n",
    "    train_acc = accuracy_score(y_train, train_pred)\n",
    "    test_acc = accuracy_score(y_test, test_pred)\n",
    "\n",
    "    # Cross-validation accuracy (5 folds)\n",
    "    cv_scores = cross_val_score(model, X_selected, y, cv=5, scoring='accuracy')\n",
    "\n",
    "    print(f\"\\n{name} Results:\")\n",
    "    print(f\"Training Accuracy: {train_acc:.4f}\")\n",
    "    print(f\"Testing Accuracy:  {test_acc:.4f}\")\n",
    "    print(f\"Cross-Val Accuracy (5 folds): {cv_scores.mean():.4f} ± {cv_scores.std():.4f}\")\n"
   ]
  },
  {
   "cell_type": "code",
   "execution_count": 7,
   "id": "1b6b8990",
   "metadata": {},
   "outputs": [
    {
     "name": "stdout",
     "output_type": "stream",
     "text": [
      "Gradient Boosting Results (Less Overfitting):\n",
      "Training Accuracy: 0.9095\n",
      "Testing Accuracy:  0.9139\n",
      "Cross-Val Accuracy (5 folds): 0.8993 ± 0.0245\n"
     ]
    }
   ],
   "source": [
    "from sklearn.model_selection import train_test_split, cross_val_score\n",
    "from sklearn.ensemble import GradientBoostingClassifier\n",
    "from sklearn.metrics import accuracy_score\n",
    "\n",
    "# Split data (same as before)\n",
    "X_train, X_test, y_train, y_test = train_test_split(\n",
    "    X_selected, y, test_size=0.25, random_state=42, stratify=y\n",
    ")\n",
    "\n",
    "# Train Gradient Boosting with stronger regularization\n",
    "gb_model = GradientBoostingClassifier(\n",
    "    n_estimators=500,          # more trees\n",
    "    learning_rate=0.01,        # smaller step size\n",
    "    max_depth=2,               # shallower trees\n",
    "    min_samples_leaf=10,       # bigger leaves\n",
    "    random_state=42\n",
    ")\n",
    "\n",
    "gb_model.fit(X_train, y_train)\n",
    "\n",
    "# Predictions and accuracy\n",
    "train_pred = gb_model.predict(X_train)\n",
    "test_pred = gb_model.predict(X_test)\n",
    "\n",
    "train_acc = accuracy_score(y_train, train_pred)\n",
    "test_acc = accuracy_score(y_test, test_pred)\n",
    "\n",
    "cv_scores = cross_val_score(gb_model, X_selected, y, cv=5, scoring='accuracy')\n",
    "\n",
    "print(\"Gradient Boosting Results (Less Overfitting):\")\n",
    "print(f\"Training Accuracy: {train_acc:.4f}\")\n",
    "print(f\"Testing Accuracy:  {test_acc:.4f}\")\n",
    "print(f\"Cross-Val Accuracy (5 folds): {cv_scores.mean():.4f} ± {cv_scores.std():.4f}\")"
   ]
  },
  {
   "cell_type": "code",
   "execution_count": 8,
   "id": "e5d4de82",
   "metadata": {},
   "outputs": [
    {
     "data": {
      "text/plain": [
       "['../models/experience-level/selected_features_experience_level.joblib']"
      ]
     },
     "execution_count": 8,
     "metadata": {},
     "output_type": "execute_result"
    }
   ],
   "source": [
    "import joblib\n",
    "\n",
    "# Save Gradient Boosting model (assume it’s the best)\n",
    "joblib.dump(models[\"Gradient Boosting\"], '../models/experience-level/experience_level_model.joblib')\n",
    "\n",
    "# Save the label map manually (since you mapped manually to 0/1/2)\n",
    "label_map = {0: \"Beginner\", 1: \"Intermediate\", 2: \"Advanced\"}\n",
    "joblib.dump(label_map, '../models/experience-level/experience_level_map.joblib')\n",
    "\n",
    "# Save selected feature names\n",
    "joblib.dump(list(selected_features), '../models/experience-level/selected_features_experience_level.joblib')\n",
    "\n"
   ]
  },
  {
   "cell_type": "code",
   "execution_count": 9,
   "id": "c6640479",
   "metadata": {},
   "outputs": [
    {
     "name": "stdout",
     "output_type": "stream",
     "text": [
      "['Session_Duration (hours)', 'Calories_Burned', 'Fat_Percentage', 'Water_Intake (liters)', 'Workout_Frequency (days/week)']\n",
      "Custom Sample 1: Predicted Experience Level = Intermediate\n",
      "Custom Sample 2: Predicted Experience Level = Beginner\n",
      "Custom Sample 3: Predicted Experience Level = Intermediate\n",
      "Custom Sample 4: Predicted Experience Level = Beginner\n",
      "Custom Sample 5: Predicted Experience Level = Beginner\n"
     ]
    },
    {
     "name": "stderr",
     "output_type": "stream",
     "text": [
      "c:\\Users\\yine6\\OneDrive\\Bureau\\ml project\\venv\\Lib\\site-packages\\sklearn\\utils\\validation.py:2732: UserWarning: X has feature names, but GradientBoostingClassifier was fitted without feature names\n",
      "  warnings.warn(\n"
     ]
    }
   ],
   "source": [
    "import pandas as pd\n",
    "import joblib\n",
    "\n",
    "# Load model and label map\n",
    "model = joblib.load('../models/experience-level/experience_level_model.joblib')\n",
    "label_map = joblib.load('../models/experience-level/experience_level_map.joblib')\n",
    "selected_features = joblib.load('../models/experience-level/selected_features_experience_level.joblib')\n",
    "\n",
    "# Custom test data (same features used during training)\n",
    "print(selected_features)\n",
    "custom_data = pd.DataFrame([\n",
    "    [1.5, 1300, 15.2, 2.5, 4],\n",
    "    [0.7, 600, 30.0, 1.8, 2],\n",
    "    [1.2, 1100, 20.5, 2.2, 3],\n",
    "    [0.9, 750, 25.1, 2.0, 3],\n",
    "    [0, 200, 18.3, 2.7, 2],\n",
    "], columns=selected_features)\n",
    "\n",
    "# Predict using model\n",
    "predicted_classes = model.predict(custom_data)\n",
    "\n",
    "# Map numerical predictions to readable class names\n",
    "predicted_labels = [label_map[int(cls)] for cls in predicted_classes]\n",
    "\n",
    "# Display results\n",
    "for i, label in enumerate(predicted_labels, 1):\n",
    "    print(f\"Custom Sample {i}: Predicted Experience Level = {label}\")\n"
   ]
  }
 ],
 "metadata": {
  "kernelspec": {
   "display_name": "venv",
   "language": "python",
   "name": "python3"
  },
  "language_info": {
   "codemirror_mode": {
    "name": "ipython",
    "version": 3
   },
   "file_extension": ".py",
   "mimetype": "text/x-python",
   "name": "python",
   "nbconvert_exporter": "python",
   "pygments_lexer": "ipython3",
   "version": "3.13.0"
  }
 },
 "nbformat": 4,
 "nbformat_minor": 5
}
