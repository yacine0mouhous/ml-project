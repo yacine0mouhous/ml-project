{
 "cells": [
  {
   "cell_type": "code",
   "execution_count": 1,
   "id": "6d06f677",
   "metadata": {},
   "outputs": [
    {
     "name": "stdout",
     "output_type": "stream",
     "text": [
      "✅ Training Accuracy: 0.9451\n",
      "✅ Testing Accuracy:  0.9590\n",
      "📊 Classification Report (Test):\n",
      "              precision    recall  f1-score   support\n",
      "\n",
      "      Normal       0.95      1.00      0.98        84\n",
      "       Obese       0.98      0.90      0.94        51\n",
      "  Overweight       0.93      0.97      0.95        65\n",
      " Underweight       1.00      0.93      0.96        44\n",
      "\n",
      "    accuracy                           0.96       244\n",
      "   macro avg       0.96      0.95      0.96       244\n",
      "weighted avg       0.96      0.96      0.96       244\n",
      "\n",
      "📈 Cross-Validation Accuracy (CV=5): 0.9466\n"
     ]
    }
   ],
   "source": [
    "import pandas as pd\n",
    "import numpy as np\n",
    "from sklearn.preprocessing import LabelEncoder, StandardScaler\n",
    "from sklearn.model_selection import train_test_split, cross_val_score\n",
    "from sklearn.linear_model import LogisticRegression\n",
    "from sklearn.metrics import accuracy_score, classification_report\n",
    "import warnings\n",
    "warnings.filterwarnings(\"ignore\")\n",
    "\n",
    "# Load dataset\n",
    "df = pd.read_csv(\"../data/data.csv\")\n",
    "\n",
    "# Add BMI_Class column\n",
    "def classify_bmi(bmi):\n",
    "    if bmi < 18.5:\n",
    "        return \"Underweight\"\n",
    "    elif bmi < 25:\n",
    "        return \"Normal\"\n",
    "    elif bmi < 30:\n",
    "        return \"Overweight\"\n",
    "    else:\n",
    "        return \"Obese\"\n",
    "\n",
    "df[\"BMI_Class\"] = df[\"BMI\"].apply(classify_bmi)\n",
    "df = df.drop(columns=[\"BMI\"])\n",
    "\n",
    "# One-hot encode categorical variables\n",
    "categorical_cols = [\"Gender\", \"Workout_Type\"]\n",
    "df = pd.get_dummies(df, columns=categorical_cols, drop_first=True)\n",
    "\n",
    "# Encode target variable\n",
    "label_encoder = LabelEncoder()\n",
    "df[\"BMI_Class_Encoded\"] = label_encoder.fit_transform(df[\"BMI_Class\"])\n",
    "\n",
    "# Define selected features without Water_Intake\n",
    "selected_features = ['Weight (kg)', 'Height (m)', 'Experience_Level', 'Gender_Male']\n",
    "\n",
    "# Feature matrix and target vector\n",
    "X = df[selected_features]\n",
    "y = df[\"BMI_Class_Encoded\"]\n",
    "\n",
    "# Scale features\n",
    "scaler = StandardScaler()\n",
    "X_scaled = scaler.fit_transform(X)\n",
    "\n",
    "# Train/test split\n",
    "X_train, X_test, y_train, y_test = train_test_split(\n",
    "    X_scaled, y, test_size=0.25, random_state=42\n",
    ")\n",
    "\n",
    "# Train Logistic Regression model\n",
    "model = LogisticRegression(max_iter=1000)\n",
    "model.fit(X_train, y_train)\n",
    "\n",
    "# Predictions and evaluation\n",
    "y_train_pred = model.predict(X_train)\n",
    "y_test_pred = model.predict(X_test)\n",
    "\n",
    "print(f\"✅ Training Accuracy: {accuracy_score(y_train, y_train_pred):.4f}\")\n",
    "print(f\"✅ Testing Accuracy:  {accuracy_score(y_test, y_test_pred):.4f}\")\n",
    "\n",
    "print(\"📊 Classification Report (Test):\")\n",
    "print(classification_report(\n",
    "    label_encoder.inverse_transform(y_test),\n",
    "    label_encoder.inverse_transform(y_test_pred)\n",
    "))\n",
    "\n",
    "# Cross-Validation Accuracy (CV=5)\n",
    "cv_scores = cross_val_score(model, X_scaled, y, cv=5)\n",
    "print(f\"📈 Cross-Validation Accuracy (CV=5): {cv_scores.mean():.4f}\")\n",
    "\n",
    "\n"
   ]
  },
  {
   "cell_type": "code",
   "execution_count": 2,
   "id": "beecd124",
   "metadata": {},
   "outputs": [
    {
     "data": {
      "text/plain": [
       "['../models/bmi/bmi_label_encoder.pkl']"
      ]
     },
     "execution_count": 2,
     "metadata": {},
     "output_type": "execute_result"
    }
   ],
   "source": [
    "import joblib\n",
    "\n",
    "# Save the trained model, scaler, and label encoder\n",
    "joblib.dump(model, \"../models/bmi/bmi_model.pkl\")\n",
    "joblib.dump(scaler, \"../models/bmi/bmi_scaler.pkl\")\n",
    "joblib.dump(label_encoder, \"../models/bmi/bmi_label_encoder.pkl\")\n"
   ]
  },
  {
   "cell_type": "code",
   "execution_count": 3,
   "id": "c238f962",
   "metadata": {},
   "outputs": [
    {
     "name": "stdout",
     "output_type": "stream",
     "text": [
      "Test sample 1: Features=[45.   1.5  1.   0. ] -> Predicted BMI_Class: Normal\n",
      "Test sample 2: Features=[110.    1.9   5.    1. ] -> Predicted BMI_Class: Obese\n",
      "Test sample 3: Features=[65.    1.65  2.    0.  ] -> Predicted BMI_Class: Normal\n",
      "Test sample 4: Features=[85.    1.75  3.    1.  ] -> Predicted BMI_Class: Overweight\n",
      "Test sample 5: Features=[55.   1.8  4.   0. ] -> Predicted BMI_Class: Underweight\n"
     ]
    }
   ],
   "source": [
    "# Load the saved model and scaler\n",
    "loaded_model = joblib.load(\"../models/bmi/bmi_model.pkl\")\n",
    "loaded_scaler = joblib.load(\"../models/bmi/bmi_scaler.pkl\")\n",
    "\n",
    "# Purposeful test samples (diverse profiles)\n",
    "test_samples = np.array([\n",
    "    [45, 1.50, 1, 0],  # Very light female, beginner, short height\n",
    "    [110, 1.90, 5, 1], # Very heavy male, expert, tall height\n",
    "    [65, 1.65, 2, 0],  # Average female, low experience\n",
    "    [85, 1.75, 3, 1],  # Heavy male, medium experience\n",
    "    [55, 1.80, 4, 0],  # Slim female, experienced, tall height\n",
    "])\n",
    "\n",
    "# Scale the test samples using loaded scaler\n",
    "test_samples_scaled = loaded_scaler.transform(test_samples)\n",
    "\n",
    "# Predict using loaded model\n",
    "predictions_encoded = loaded_model.predict(test_samples_scaled)\n",
    "predictions = label_encoder.inverse_transform(predictions_encoded)\n",
    "\n",
    "# Show test samples with their predicted classes\n",
    "for i, sample in enumerate(test_samples):\n",
    "    print(f\"Test sample {i+1}: Features={sample} -> Predicted BMI_Class: {predictions[i]}\")"
   ]
  },
  {
   "cell_type": "code",
   "execution_count": null,
   "id": "824e1bb2",
   "metadata": {},
   "outputs": [],
   "source": []
  }
 ],
 "metadata": {
  "kernelspec": {
   "display_name": "venv",
   "language": "python",
   "name": "python3"
  },
  "language_info": {
   "codemirror_mode": {
    "name": "ipython",
    "version": 3
   },
   "file_extension": ".py",
   "mimetype": "text/x-python",
   "name": "python",
   "nbconvert_exporter": "python",
   "pygments_lexer": "ipython3",
   "version": "3.13.0"
  }
 },
 "nbformat": 4,
 "nbformat_minor": 5
}
